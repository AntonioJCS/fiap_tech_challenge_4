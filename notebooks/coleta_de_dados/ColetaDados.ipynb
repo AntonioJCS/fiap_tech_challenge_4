{
 "cells": [
  {
   "cell_type": "code",
   "execution_count": null,
   "id": "d78982a2",
   "metadata": {},
   "outputs": [
    {
     "name": "stderr",
     "output_type": "stream",
     "text": [
      "[*********************100%***********************]  1 of 1 completed\n",
      "C:\\Users\\anton\\AppData\\Local\\Temp\\ipykernel_31216\\2054868209.py:10: FutureWarning: The previous implementation of stack is deprecated and will be removed in a future version of pandas. See the What's New notes for pandas 2.1.0 for details. Specify future_stack=True to adopt the new implementation and silence this warning.\n",
      "  df = df.stack(level=1).reset_index()\n"
     ]
    },
    {
     "data": {
      "application/vnd.microsoft.datawrangler.viewer.v0+json": {
       "columns": [
        {
         "name": "index",
         "rawType": "int64",
         "type": "integer"
        },
        {
         "name": "Date",
         "rawType": "datetime64[ns]",
         "type": "datetime"
        },
        {
         "name": "Ticker",
         "rawType": "object",
         "type": "string"
        },
        {
         "name": "Close",
         "rawType": "float64",
         "type": "float"
        },
        {
         "name": "High",
         "rawType": "float64",
         "type": "float"
        },
        {
         "name": "Low",
         "rawType": "float64",
         "type": "float"
        },
        {
         "name": "Open",
         "rawType": "float64",
         "type": "float"
        },
        {
         "name": "Volume",
         "rawType": "int64",
         "type": "integer"
        }
       ],
       "ref": "f1187e0d-19d6-45fc-ac41-73830d8e4732",
       "rows": [
        [
         "0",
         "2022-01-03 00:00:00",
         "NVDA",
         "30.06822395324707",
         "30.657190340475623",
         "29.73281223197668",
         "29.762760353092375",
         "391547000"
        ],
        [
         "1",
         "2022-01-04 00:00:00",
         "NVDA",
         "29.238677978515625",
         "30.414613344143667",
         "28.299326845991395",
         "30.22394803607981",
         "527154000"
        ],
        [
         "2",
         "2022-01-05 00:00:00",
         "NVDA",
         "27.555631637573242",
         "29.364456877758002",
         "27.48475689863298",
         "28.89827420780447",
         "498064000"
        ],
        [
         "3",
         "2022-01-06 00:00:00",
         "NVDA",
         "28.128623962402344",
         "28.3881686000291",
         "27.017575277491524",
         "27.591566578391287",
         "454186000"
        ],
        [
         "4",
         "2022-01-07 00:00:00",
         "NVDA",
         "27.199256896972656",
         "28.372199176316535",
         "27.009589286388195",
         "28.091691414138594",
         "409939000"
        ],
        [
         "5",
         "2022-01-10 00:00:00",
         "NVDA",
         "27.35198974609375",
         "27.42086908903126",
         "25.59906606532703",
         "26.534424542018602",
         "594681000"
        ],
        [
         "6",
         "2022-01-11 00:00:00",
         "NVDA",
         "27.768260955810547",
         "28.015827528910936",
         "26.79197578494251",
         "27.27512701669273",
         "404089000"
        ],
        [
         "7",
         "2022-01-12 00:00:00",
         "NVDA",
         "27.94994354248047",
         "28.544898057978678",
         "27.559627866622925",
         "28.017823287842585",
         "383413000"
        ],
        [
         "8",
         "2022-01-13 00:00:00",
         "NVDA",
         "26.528432846069336",
         "28.430093457078527",
         "26.451566205841523",
         "28.329270608994918",
         "540171000"
        ],
        [
         "9",
         "2022-01-14 00:00:00",
         "NVDA",
         "26.894786834716797",
         "27.149341044252072",
         "26.164069225989124",
         "26.253911664177313",
         "395832000"
        ]
       ],
       "shape": {
        "columns": 7,
        "rows": 10
       }
      },
      "text/html": [
       "<div>\n",
       "<style scoped>\n",
       "    .dataframe tbody tr th:only-of-type {\n",
       "        vertical-align: middle;\n",
       "    }\n",
       "\n",
       "    .dataframe tbody tr th {\n",
       "        vertical-align: top;\n",
       "    }\n",
       "\n",
       "    .dataframe thead th {\n",
       "        text-align: right;\n",
       "    }\n",
       "</style>\n",
       "<table border=\"1\" class=\"dataframe\">\n",
       "  <thead>\n",
       "    <tr style=\"text-align: right;\">\n",
       "      <th>Price</th>\n",
       "      <th>Date</th>\n",
       "      <th>Ticker</th>\n",
       "      <th>Close</th>\n",
       "      <th>High</th>\n",
       "      <th>Low</th>\n",
       "      <th>Open</th>\n",
       "      <th>Volume</th>\n",
       "    </tr>\n",
       "  </thead>\n",
       "  <tbody>\n",
       "    <tr>\n",
       "      <th>0</th>\n",
       "      <td>2022-01-03</td>\n",
       "      <td>NVDA</td>\n",
       "      <td>30.068224</td>\n",
       "      <td>30.657190</td>\n",
       "      <td>29.732812</td>\n",
       "      <td>29.762760</td>\n",
       "      <td>391547000</td>\n",
       "    </tr>\n",
       "    <tr>\n",
       "      <th>1</th>\n",
       "      <td>2022-01-04</td>\n",
       "      <td>NVDA</td>\n",
       "      <td>29.238678</td>\n",
       "      <td>30.414613</td>\n",
       "      <td>28.299327</td>\n",
       "      <td>30.223948</td>\n",
       "      <td>527154000</td>\n",
       "    </tr>\n",
       "    <tr>\n",
       "      <th>2</th>\n",
       "      <td>2022-01-05</td>\n",
       "      <td>NVDA</td>\n",
       "      <td>27.555632</td>\n",
       "      <td>29.364457</td>\n",
       "      <td>27.484757</td>\n",
       "      <td>28.898274</td>\n",
       "      <td>498064000</td>\n",
       "    </tr>\n",
       "    <tr>\n",
       "      <th>3</th>\n",
       "      <td>2022-01-06</td>\n",
       "      <td>NVDA</td>\n",
       "      <td>28.128624</td>\n",
       "      <td>28.388169</td>\n",
       "      <td>27.017575</td>\n",
       "      <td>27.591567</td>\n",
       "      <td>454186000</td>\n",
       "    </tr>\n",
       "    <tr>\n",
       "      <th>4</th>\n",
       "      <td>2022-01-07</td>\n",
       "      <td>NVDA</td>\n",
       "      <td>27.199257</td>\n",
       "      <td>28.372199</td>\n",
       "      <td>27.009589</td>\n",
       "      <td>28.091691</td>\n",
       "      <td>409939000</td>\n",
       "    </tr>\n",
       "    <tr>\n",
       "      <th>5</th>\n",
       "      <td>2022-01-10</td>\n",
       "      <td>NVDA</td>\n",
       "      <td>27.351990</td>\n",
       "      <td>27.420869</td>\n",
       "      <td>25.599066</td>\n",
       "      <td>26.534425</td>\n",
       "      <td>594681000</td>\n",
       "    </tr>\n",
       "    <tr>\n",
       "      <th>6</th>\n",
       "      <td>2022-01-11</td>\n",
       "      <td>NVDA</td>\n",
       "      <td>27.768261</td>\n",
       "      <td>28.015828</td>\n",
       "      <td>26.791976</td>\n",
       "      <td>27.275127</td>\n",
       "      <td>404089000</td>\n",
       "    </tr>\n",
       "    <tr>\n",
       "      <th>7</th>\n",
       "      <td>2022-01-12</td>\n",
       "      <td>NVDA</td>\n",
       "      <td>27.949944</td>\n",
       "      <td>28.544898</td>\n",
       "      <td>27.559628</td>\n",
       "      <td>28.017823</td>\n",
       "      <td>383413000</td>\n",
       "    </tr>\n",
       "    <tr>\n",
       "      <th>8</th>\n",
       "      <td>2022-01-13</td>\n",
       "      <td>NVDA</td>\n",
       "      <td>26.528433</td>\n",
       "      <td>28.430093</td>\n",
       "      <td>26.451566</td>\n",
       "      <td>28.329271</td>\n",
       "      <td>540171000</td>\n",
       "    </tr>\n",
       "    <tr>\n",
       "      <th>9</th>\n",
       "      <td>2022-01-14</td>\n",
       "      <td>NVDA</td>\n",
       "      <td>26.894787</td>\n",
       "      <td>27.149341</td>\n",
       "      <td>26.164069</td>\n",
       "      <td>26.253912</td>\n",
       "      <td>395832000</td>\n",
       "    </tr>\n",
       "  </tbody>\n",
       "</table>\n",
       "</div>"
      ],
      "text/plain": [
       "Price       Date Ticker      Close       High        Low       Open     Volume\n",
       "0     2022-01-03   NVDA  30.068224  30.657190  29.732812  29.762760  391547000\n",
       "1     2022-01-04   NVDA  29.238678  30.414613  28.299327  30.223948  527154000\n",
       "2     2022-01-05   NVDA  27.555632  29.364457  27.484757  28.898274  498064000\n",
       "3     2022-01-06   NVDA  28.128624  28.388169  27.017575  27.591567  454186000\n",
       "4     2022-01-07   NVDA  27.199257  28.372199  27.009589  28.091691  409939000\n",
       "5     2022-01-10   NVDA  27.351990  27.420869  25.599066  26.534425  594681000\n",
       "6     2022-01-11   NVDA  27.768261  28.015828  26.791976  27.275127  404089000\n",
       "7     2022-01-12   NVDA  27.949944  28.544898  27.559628  28.017823  383413000\n",
       "8     2022-01-13   NVDA  26.528433  28.430093  26.451566  28.329271  540171000\n",
       "9     2022-01-14   NVDA  26.894787  27.149341  26.164069  26.253912  395832000"
      ]
     },
     "execution_count": 6,
     "metadata": {},
     "output_type": "execute_result"
    }
   ],
   "source": [
    "import yfinance as yf\n",
    "from datetime import datetime\n",
    "\n",
    "ticker = 'NVDA'\n",
    "start_date = '2022-01-01'\n",
    "end_date = datetime.today().strftime('%Y-%m-%d')\n",
    "\n",
    "df = yf.download(ticker, start=start_date, end=end_date)\n",
    "df = df.stack(level=1).reset_index()\n",
    "df.head(10)"
   ]
  },
  {
   "cell_type": "code",
   "execution_count": 6,
   "id": "608bd543",
   "metadata": {},
   "outputs": [
    {
     "data": {
      "text/plain": [
       "MultiIndex([( 'Close', 'NVDA'),\n",
       "            (  'High', 'NVDA'),\n",
       "            (   'Low', 'NVDA'),\n",
       "            (  'Open', 'NVDA'),\n",
       "            ('Volume', 'NVDA')],\n",
       "           names=['Price', 'Ticker'])"
      ]
     },
     "execution_count": 6,
     "metadata": {},
     "output_type": "execute_result"
    }
   ],
   "source": [
    "df.columns"
   ]
  },
  {
   "cell_type": "code",
   "execution_count": null,
   "id": "8b996aa9",
   "metadata": {},
   "outputs": [],
   "source": [
    "# Coluna para Modelo de Predição\n",
    "df = df[['Close']]\n",
    "df.dropna(inplace=True)\n",
    "\n"
   ]
  }
 ],
 "metadata": {
  "kernelspec": {
   "display_name": ".venv",
   "language": "python",
   "name": "python3"
  },
  "language_info": {
   "codemirror_mode": {
    "name": "ipython",
    "version": 3
   },
   "file_extension": ".py",
   "mimetype": "text/x-python",
   "name": "python",
   "nbconvert_exporter": "python",
   "pygments_lexer": "ipython3",
   "version": "3.10.0"
  }
 },
 "nbformat": 4,
 "nbformat_minor": 5
}

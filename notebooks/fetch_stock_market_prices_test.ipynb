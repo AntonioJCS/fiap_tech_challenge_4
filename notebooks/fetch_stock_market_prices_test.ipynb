{
 "cells": [
  {
   "cell_type": "code",
   "execution_count": null,
   "id": "3301bc83",
   "metadata": {},
   "outputs": [],
   "source": [
    "from data_pipeline.sources.yfinance_source import fetch_stock_market_prices"
   ]
  },
  {
   "cell_type": "code",
   "execution_count": 3,
   "id": "2595acf9",
   "metadata": {},
   "outputs": [
    {
     "name": "stderr",
     "output_type": "stream",
     "text": [
      "[*********************100%***********************]  1 of 1 completed\n"
     ]
    },
    {
     "data": {
      "application/vnd.microsoft.datawrangler.viewer.v0+json": {
       "columns": [
        {
         "name": "index",
         "rawType": "int64",
         "type": "integer"
        },
        {
         "name": "Date",
         "rawType": "datetime64[ns]",
         "type": "datetime"
        },
        {
         "name": "Ticker",
         "rawType": "object",
         "type": "string"
        },
        {
         "name": "Close",
         "rawType": "float64",
         "type": "float"
        },
        {
         "name": "High",
         "rawType": "float64",
         "type": "float"
        },
        {
         "name": "Low",
         "rawType": "float64",
         "type": "float"
        },
        {
         "name": "Open",
         "rawType": "float64",
         "type": "float"
        },
        {
         "name": "Volume",
         "rawType": "int64",
         "type": "integer"
        }
       ],
       "ref": "85da4940-362c-4ea7-9835-0e1be87ccc53",
       "rows": [
        [
         "0",
         "2022-01-03 00:00:00",
         "NVDA",
         "30.06822395324707",
         "30.657190340475623",
         "29.73281223197668",
         "29.762760353092375",
         "391547000"
        ],
        [
         "1",
         "2022-01-04 00:00:00",
         "NVDA",
         "29.23868179321289",
         "30.414617312262283",
         "28.299330538133866",
         "30.2239519793228",
         "527154000"
        ],
        [
         "2",
         "2022-01-05 00:00:00",
         "NVDA",
         "27.55562973022461",
         "29.364454845205913",
         "27.484754996190166",
         "28.89827220752066",
         "498064000"
        ],
        [
         "3",
         "2022-01-06 00:00:00",
         "NVDA",
         "28.12862777709961",
         "28.38817244992483",
         "27.017578941512586",
         "27.59157032025487",
         "454186000"
        ],
        [
         "4",
         "2022-01-07 00:00:00",
         "NVDA",
         "27.199256896972656",
         "28.372199176316535",
         "27.009589286388195",
         "28.091691414138594",
         "409939000"
        ],
        [
         "5",
         "2022-01-10 00:00:00",
         "NVDA",
         "27.35198974609375",
         "27.42086908903126",
         "25.59906606532703",
         "26.534424542018602",
         "594681000"
        ],
        [
         "6",
         "2022-01-11 00:00:00",
         "NVDA",
         "27.76825714111328",
         "28.015823680203926",
         "26.791972104363566",
         "27.275123269740316",
         "404089000"
        ],
        [
         "7",
         "2022-01-12 00:00:00",
         "NVDA",
         "27.949939727783203",
         "28.544894162080126",
         "27.559624105197184",
         "28.017819463880873",
         "383413000"
        ],
        [
         "8",
         "2022-01-13 00:00:00",
         "NVDA",
         "26.5284366607666",
         "28.43009754522804",
         "26.451570009485632",
         "28.329274682646453",
         "540171000"
        ],
        [
         "9",
         "2022-01-14 00:00:00",
         "NVDA",
         "26.894792556762695",
         "27.149346820456078",
         "26.16407479256996",
         "26.25391724987273",
         "395832000"
        ]
       ],
       "shape": {
        "columns": 7,
        "rows": 10
       }
      },
      "text/html": [
       "<div>\n",
       "<style scoped>\n",
       "    .dataframe tbody tr th:only-of-type {\n",
       "        vertical-align: middle;\n",
       "    }\n",
       "\n",
       "    .dataframe tbody tr th {\n",
       "        vertical-align: top;\n",
       "    }\n",
       "\n",
       "    .dataframe thead th {\n",
       "        text-align: right;\n",
       "    }\n",
       "</style>\n",
       "<table border=\"1\" class=\"dataframe\">\n",
       "  <thead>\n",
       "    <tr style=\"text-align: right;\">\n",
       "      <th>Price</th>\n",
       "      <th>Date</th>\n",
       "      <th>Ticker</th>\n",
       "      <th>Close</th>\n",
       "      <th>High</th>\n",
       "      <th>Low</th>\n",
       "      <th>Open</th>\n",
       "      <th>Volume</th>\n",
       "    </tr>\n",
       "  </thead>\n",
       "  <tbody>\n",
       "    <tr>\n",
       "      <th>0</th>\n",
       "      <td>2022-01-03</td>\n",
       "      <td>NVDA</td>\n",
       "      <td>30.068224</td>\n",
       "      <td>30.657190</td>\n",
       "      <td>29.732812</td>\n",
       "      <td>29.762760</td>\n",
       "      <td>391547000</td>\n",
       "    </tr>\n",
       "    <tr>\n",
       "      <th>1</th>\n",
       "      <td>2022-01-04</td>\n",
       "      <td>NVDA</td>\n",
       "      <td>29.238682</td>\n",
       "      <td>30.414617</td>\n",
       "      <td>28.299331</td>\n",
       "      <td>30.223952</td>\n",
       "      <td>527154000</td>\n",
       "    </tr>\n",
       "    <tr>\n",
       "      <th>2</th>\n",
       "      <td>2022-01-05</td>\n",
       "      <td>NVDA</td>\n",
       "      <td>27.555630</td>\n",
       "      <td>29.364455</td>\n",
       "      <td>27.484755</td>\n",
       "      <td>28.898272</td>\n",
       "      <td>498064000</td>\n",
       "    </tr>\n",
       "    <tr>\n",
       "      <th>3</th>\n",
       "      <td>2022-01-06</td>\n",
       "      <td>NVDA</td>\n",
       "      <td>28.128628</td>\n",
       "      <td>28.388172</td>\n",
       "      <td>27.017579</td>\n",
       "      <td>27.591570</td>\n",
       "      <td>454186000</td>\n",
       "    </tr>\n",
       "    <tr>\n",
       "      <th>4</th>\n",
       "      <td>2022-01-07</td>\n",
       "      <td>NVDA</td>\n",
       "      <td>27.199257</td>\n",
       "      <td>28.372199</td>\n",
       "      <td>27.009589</td>\n",
       "      <td>28.091691</td>\n",
       "      <td>409939000</td>\n",
       "    </tr>\n",
       "    <tr>\n",
       "      <th>5</th>\n",
       "      <td>2022-01-10</td>\n",
       "      <td>NVDA</td>\n",
       "      <td>27.351990</td>\n",
       "      <td>27.420869</td>\n",
       "      <td>25.599066</td>\n",
       "      <td>26.534425</td>\n",
       "      <td>594681000</td>\n",
       "    </tr>\n",
       "    <tr>\n",
       "      <th>6</th>\n",
       "      <td>2022-01-11</td>\n",
       "      <td>NVDA</td>\n",
       "      <td>27.768257</td>\n",
       "      <td>28.015824</td>\n",
       "      <td>26.791972</td>\n",
       "      <td>27.275123</td>\n",
       "      <td>404089000</td>\n",
       "    </tr>\n",
       "    <tr>\n",
       "      <th>7</th>\n",
       "      <td>2022-01-12</td>\n",
       "      <td>NVDA</td>\n",
       "      <td>27.949940</td>\n",
       "      <td>28.544894</td>\n",
       "      <td>27.559624</td>\n",
       "      <td>28.017819</td>\n",
       "      <td>383413000</td>\n",
       "    </tr>\n",
       "    <tr>\n",
       "      <th>8</th>\n",
       "      <td>2022-01-13</td>\n",
       "      <td>NVDA</td>\n",
       "      <td>26.528437</td>\n",
       "      <td>28.430098</td>\n",
       "      <td>26.451570</td>\n",
       "      <td>28.329275</td>\n",
       "      <td>540171000</td>\n",
       "    </tr>\n",
       "    <tr>\n",
       "      <th>9</th>\n",
       "      <td>2022-01-14</td>\n",
       "      <td>NVDA</td>\n",
       "      <td>26.894793</td>\n",
       "      <td>27.149347</td>\n",
       "      <td>26.164075</td>\n",
       "      <td>26.253917</td>\n",
       "      <td>395832000</td>\n",
       "    </tr>\n",
       "  </tbody>\n",
       "</table>\n",
       "</div>"
      ],
      "text/plain": [
       "Price       Date Ticker      Close       High        Low       Open     Volume\n",
       "0     2022-01-03   NVDA  30.068224  30.657190  29.732812  29.762760  391547000\n",
       "1     2022-01-04   NVDA  29.238682  30.414617  28.299331  30.223952  527154000\n",
       "2     2022-01-05   NVDA  27.555630  29.364455  27.484755  28.898272  498064000\n",
       "3     2022-01-06   NVDA  28.128628  28.388172  27.017579  27.591570  454186000\n",
       "4     2022-01-07   NVDA  27.199257  28.372199  27.009589  28.091691  409939000\n",
       "5     2022-01-10   NVDA  27.351990  27.420869  25.599066  26.534425  594681000\n",
       "6     2022-01-11   NVDA  27.768257  28.015824  26.791972  27.275123  404089000\n",
       "7     2022-01-12   NVDA  27.949940  28.544894  27.559624  28.017819  383413000\n",
       "8     2022-01-13   NVDA  26.528437  28.430098  26.451570  28.329275  540171000\n",
       "9     2022-01-14   NVDA  26.894793  27.149347  26.164075  26.253917  395832000"
      ]
     },
     "execution_count": 3,
     "metadata": {},
     "output_type": "execute_result"
    }
   ],
   "source": [
    "df = fetch_stock_market_prices(\n",
    "    ticker = 'NVDA',\n",
    "    start_date = '2022-01-01'\n",
    ")\n",
    "\n",
    "df.head(10)"
   ]
  },
  {
   "cell_type": "code",
   "execution_count": null,
   "id": "b4ee8ecf",
   "metadata": {},
   "outputs": [],
   "source": []
  }
 ],
 "metadata": {
  "kernelspec": {
   "display_name": ".venv",
   "language": "python",
   "name": "python3"
  },
  "language_info": {
   "codemirror_mode": {
    "name": "ipython",
    "version": 3
   },
   "file_extension": ".py",
   "mimetype": "text/x-python",
   "name": "python",
   "nbconvert_exporter": "python",
   "pygments_lexer": "ipython3",
   "version": "3.10.0"
  }
 },
 "nbformat": 4,
 "nbformat_minor": 5
}

{
 "cells": [
  {
   "cell_type": "code",
   "execution_count": null,
   "id": "a3315c19",
   "metadata": {},
   "outputs": [],
   "source": [
    "from pydantic import BaseModel\n",
    "from typing import Optional"
   ]
  },
  {
   "cell_type": "code",
   "execution_count": null,
   "id": "3a671c04",
   "metadata": {},
   "outputs": [],
   "source": [
    "\n",
    "# === EXEMPLO 1: Schema básico ===\n",
    "class Pessoa(BaseModel):\n",
    "    nome: str\n",
    "    idade: int\n",
    "    email: str\n",
    "\n",
    "# Testando o básico\n",
    "print(\"=== EXEMPLO 1: Básico ===\")\n",
    "pessoa1 = Pessoa(\n",
    "    nome=\"João\",\n",
    "    idade=30,\n",
    "    email=\"joao@email.com\"\n",
    ")\n",
    "print(pessoa1)\n",
    "print(f\"Nome: {pessoa1.nome}\")\n",
    "print(f\"Idade: {pessoa1.idade}\")\n",
    "print(f\"Email: {pessoa1.email}\")\n",
    "print(f\"Dados completos: {pessoa1}\")\n"
   ]
  },
  {
   "cell_type": "code",
   "execution_count": null,
   "id": "f4cad990",
   "metadata": {},
   "outputs": [],
   "source": [
    "\n",
    "# === EXEMPLO 2: Herança simples ===\n",
    "class PessoaBase(BaseModel):\n",
    "    nome: str\n",
    "    idade: int\n",
    "\n",
    "class PessoaCompleta(PessoaBase):  # Herda nome e idade\n",
    "    email: str\n",
    "    telefone: str\n",
    "\n",
    "print(\"=== EXEMPLO 2: Herança ===\")\n",
    "pessoa2 = PessoaCompleta(\n",
    "    nome=\"Maria\",\n",
    "    idade=25,\n",
    "    email=\"maria@email.com\",\n",
    "    telefone=\"11999999999\"\n",
    ")\n",
    "\n",
    "print(f\"Pessoa completa: {pessoa2}\")\n",
    "print()"
   ]
  },
  {
   "cell_type": "code",
   "execution_count": null,
   "id": "a4c77a88",
   "metadata": {},
   "outputs": [],
   "source": [
    "\n",
    "# === EXEMPLO 3: Campos opcionais ===\n",
    "class PessoaUpdate(BaseModel):\n",
    "    nome: Optional[str] = None      # Pode ser None\n",
    "    idade: Optional[int] = None     # Pode ser None\n",
    "    email: Optional[str] = None     # Pode ser None\n",
    "\n",
    "print(\"=== EXEMPLO 3: Campos opcionais ===\")\n",
    "# Posso criar só com alguns campos\n",
    "update_dados = PessoaUpdate(nome=\"Carlos\")\n",
    "print(f\"Update só com nome: {update_dados}\")\n",
    "\n",
    "# Ou com vários campos\n",
    "update_dados2 = PessoaUpdate(nome=\"Ana\", idade=28)\n",
    "print(f\"Update com nome e idade: {update_dados2}\")\n",
    "print()"
   ]
  },
  {
   "cell_type": "code",
   "execution_count": null,
   "id": "3f30c480",
   "metadata": {},
   "outputs": [],
   "source": [
    "# === EXEMPLO 4: Diferentes propósitos ===\n",
    "class PessoaCreate(PessoaBase):\n",
    "    \"\"\"Para criar pessoa - todos campos obrigatórios\"\"\"\n",
    "    email: str\n",
    "\n",
    "class PessoaResponse(PessoaBase):\n",
    "    \"\"\"Para retornar pessoa - inclui ID\"\"\"\n",
    "    id: int\n",
    "    email: str\n",
    "\n",
    "print(\"=== EXEMPLO 4: Diferentes propósitos ===\")\n",
    "\n",
    "# Criar pessoa (todos campos obrigatórios)\n",
    "nova_pessoa = PessoaCreate(\n",
    "    nome=\"Pedro\",\n",
    "    idade=35,\n",
    "    email=\"pedro@email.com\"\n",
    ")\n",
    "print(f\"Nova pessoa: {nova_pessoa}\")\n",
    "\n",
    "# Simular resposta da API (com ID)\n",
    "resposta_pessoa = PessoaResponse(\n",
    "    id=1,\n",
    "    nome=\"Pedro\",\n",
    "    idade=35,\n",
    "    email=\"pedro@email.com\"\n",
    ")\n",
    "print(f\"Resposta da API: {resposta_pessoa}\")\n",
    "print()"
   ]
  },
  {
   "cell_type": "code",
   "execution_count": 1,
   "id": "7a411b13",
   "metadata": {},
   "outputs": [
    {
     "name": "stdout",
     "output_type": "stream",
     "text": [
      "=== EXEMPLO 5: Diferença na prática ===\n",
      "Erro ao criar pessoa incompleta: name 'PessoaCreate' is not defined\n"
     ]
    },
    {
     "ename": "NameError",
     "evalue": "name 'PessoaUpdate' is not defined",
     "output_type": "error",
     "traceback": [
      "\u001b[1;31m---------------------------------------------------------------------------\u001b[0m",
      "\u001b[1;31mNameError\u001b[0m                                 Traceback (most recent call last)",
      "Cell \u001b[1;32mIn[1], line 11\u001b[0m\n\u001b[0;32m      8\u001b[0m     \u001b[38;5;28mprint\u001b[39m(\u001b[38;5;124mf\u001b[39m\u001b[38;5;124m\"\u001b[39m\u001b[38;5;124mErro ao criar pessoa incompleta: \u001b[39m\u001b[38;5;132;01m{\u001b[39;00me\u001b[38;5;132;01m}\u001b[39;00m\u001b[38;5;124m\"\u001b[39m)\n\u001b[0;32m     10\u001b[0m \u001b[38;5;66;03m# UPDATE: Pode ter só alguns campos\u001b[39;00m\n\u001b[1;32m---> 11\u001b[0m pessoa_update_ok \u001b[38;5;241m=\u001b[39m \u001b[43mPessoaUpdate\u001b[49m(nome\u001b[38;5;241m=\u001b[39m\u001b[38;5;124m\"\u001b[39m\u001b[38;5;124mJoão\u001b[39m\u001b[38;5;124m\"\u001b[39m)  \u001b[38;5;66;03m# Isso funciona!\u001b[39;00m\n\u001b[0;32m     12\u001b[0m \u001b[38;5;28mprint\u001b[39m(\u001b[38;5;124mf\u001b[39m\u001b[38;5;124m\"\u001b[39m\u001b[38;5;124mUpdate OK: \u001b[39m\u001b[38;5;132;01m{\u001b[39;00mpessoa_update_ok\u001b[38;5;132;01m}\u001b[39;00m\u001b[38;5;124m\"\u001b[39m)\n\u001b[0;32m     14\u001b[0m \u001b[38;5;28mprint\u001b[39m(\u001b[38;5;124m\"\u001b[39m\u001b[38;5;130;01m\\n\u001b[39;00m\u001b[38;5;124m\"\u001b[39m \u001b[38;5;241m+\u001b[39m \u001b[38;5;124m\"\u001b[39m\u001b[38;5;124m=\u001b[39m\u001b[38;5;124m\"\u001b[39m\u001b[38;5;241m*\u001b[39m\u001b[38;5;241m50\u001b[39m)\n",
      "\u001b[1;31mNameError\u001b[0m: name 'PessoaUpdate' is not defined"
     ]
    }
   ],
   "source": [
    "# === EXEMPLO 5: Mostrando a diferença na prática ===\n",
    "print(\"=== EXEMPLO 5: Diferença na prática ===\")\n",
    "\n",
    "# CREATE: Precisa de todos os campos\n",
    "try:\n",
    "    pessoa_incompleta = PessoaCreate(nome=\"João\")  # Faltam idade e email\n",
    "except Exception as e:\n",
    "    print(f\"Erro ao criar pessoa incompleta: {e}\")\n",
    "\n",
    "# UPDATE: Pode ter só alguns campos\n",
    "pessoa_update_ok = PessoaUpdate(nome=\"João\")  # Isso funciona!\n",
    "print(f\"Update OK: {pessoa_update_ok}\")\n",
    "\n",
    "print(\"\\n\" + \"=\"*50)\n",
    "print(\"RESUMO:\")\n",
    "print(\"- PessoaBase: Campos básicos\")\n",
    "print(\"- PessoaCreate: Herda de Base + email obrigatório\")\n",
    "print(\"- PessoaUpdate: Todos campos opcionais\")\n",
    "print(\"- PessoaResponse: Herda de Base + ID + email\")"
   ]
  }
 ],
 "metadata": {
  "kernelspec": {
   "display_name": ".venv",
   "language": "python",
   "name": "python3"
  },
  "language_info": {
   "codemirror_mode": {
    "name": "ipython",
    "version": 3
   },
   "file_extension": ".py",
   "mimetype": "text/x-python",
   "name": "python",
   "nbconvert_exporter": "python",
   "pygments_lexer": "ipython3",
   "version": "3.10.0"
  }
 },
 "nbformat": 4,
 "nbformat_minor": 5
}
